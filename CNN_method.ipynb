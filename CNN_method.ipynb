{
 "cells": [
  {
   "cell_type": "code",
   "execution_count": 15,
   "metadata": {},
   "outputs": [],
   "source": [
    "from keras.models import Sequential\n",
    "from keras.layers import Conv2D\n",
    "from keras.layers import MaxPooling2D\n",
    "from keras.layers import Flatten\n",
    "from keras.layers import Dense\n"
   ]
  },
  {
   "cell_type": "code",
   "execution_count": 16,
   "metadata": {},
   "outputs": [],
   "source": [
    "classifier  = Sequential() "
   ]
  },
  {
   "cell_type": "code",
   "execution_count": 17,
   "metadata": {},
   "outputs": [],
   "source": [
    "classifier.add(Conv2D(32, (3, 3), input_shape = (64, 64, 3), activation = 'relu'))\n",
    "classifier.add(MaxPooling2D(pool_size = (2, 2)))\n",
    "classifier.add(Conv2D(32, (3, 3), activation = 'relu'))\n",
    "classifier.add(MaxPooling2D(pool_size = (2, 2)))\n",
    "classifier.add(Conv2D(32, (3, 3), activation = 'relu'))\n",
    "classifier.add(MaxPooling2D(pool_size = (2, 2)))\n",
    "classifier.add(Conv2D(32, (3, 3), activation = 'relu'))\n",
    "classifier.add(MaxPooling2D(pool_size = (2, 2)))\n"
   ]
  },
  {
   "cell_type": "code",
   "execution_count": 18,
   "metadata": {},
   "outputs": [],
   "source": [
    "classifier.add(Flatten()) "
   ]
  },
  {
   "cell_type": "code",
   "execution_count": 19,
   "metadata": {},
   "outputs": [
    {
     "name": "stderr",
     "output_type": "stream",
     "text": [
      "D:\\anaconda\\lib\\site-packages\\ipykernel_launcher.py:2: UserWarning: Update your `Dense` call to the Keras 2 API: `Dense(activation=\"relu\", units=128)`\n",
      "  \n",
      "D:\\anaconda\\lib\\site-packages\\ipykernel_launcher.py:3: UserWarning: Update your `Dense` call to the Keras 2 API: `Dense(activation=\"relu\", units=128)`\n",
      "  This is separate from the ipykernel package so we can avoid doing imports until\n",
      "D:\\anaconda\\lib\\site-packages\\ipykernel_launcher.py:4: UserWarning: Update your `Dense` call to the Keras 2 API: `Dense(activation=\"relu\", units=128)`\n",
      "  after removing the cwd from sys.path.\n",
      "D:\\anaconda\\lib\\site-packages\\ipykernel_launcher.py:5: UserWarning: Update your `Dense` call to the Keras 2 API: `Dense(activation=\"sigmoid\", units=1)`\n",
      "  \"\"\"\n"
     ]
    }
   ],
   "source": [
    "#hidden layer\n",
    "classifier.add(Dense(output_dim = 128, activation = 'relu'))\n",
    "classifier.add(Dense(output_dim = 128, activation = 'relu'))\n",
    "classifier.add(Dense(output_dim = 128, activation = 'relu'))\n",
    "classifier.add(Dense(output_dim = 1, activation = 'sigmoid'))"
   ]
  },
  {
   "cell_type": "code",
   "execution_count": 20,
   "metadata": {},
   "outputs": [],
   "source": [
    "classifier.compile(optimizer = 'adam', loss = 'binary_crossentropy', metrics = ['accuracy'])\n",
    "#FOR MORE THAN 2 CLASSES USE CATAGORICAL_CROSSENTROPY"
   ]
  },
  {
   "cell_type": "code",
   "execution_count": 21,
   "metadata": {},
   "outputs": [
    {
     "name": "stdout",
     "output_type": "stream",
     "text": [
      "Found 1560 images belonging to 2 classes.\n",
      "Found 365 images belonging to 2 classes.\n"
     ]
    }
   ],
   "source": [
    "#copied from keras documentation this is code for image preprocessing in first \n",
    "#imagedatagenrator is take to process image like rescaling, zooming, fliping etc from\n",
    "#training image as well as testing image set\n",
    "#then data is taken and train it\n",
    "from keras.preprocessing.image import ImageDataGenerator\n",
    "\n",
    "train_datagen = ImageDataGenerator(rescale = 1./255,\n",
    "                                   shear_range = 0.2,\n",
    "                                   zoom_range = 0.2,\n",
    "                                   horizontal_flip = True)\n",
    "\n",
    "test_datagen = ImageDataGenerator(rescale = 1./255)\n",
    "\n",
    "training_set = train_datagen.flow_from_directory('dataset/training_set1',\n",
    "                                                 target_size = (64, 64),\n",
    "                                                 batch_size = 3,\n",
    "                                                 class_mode = 'binary')\n",
    "\n",
    "test_set = test_datagen.flow_from_directory('dataset/test_set1',\n",
    "                                            target_size = (64, 64),\n",
    "                                            batch_size = 3,\n",
    "                                            class_mode = 'binary')\n",
    "\n"
   ]
  },
  {
   "cell_type": "code",
   "execution_count": 22,
   "metadata": {},
   "outputs": [
    {
     "name": "stdout",
     "output_type": "stream",
     "text": [
      "Epoch 1/10\n",
      "36/36 [==============================] - 7s 184ms/step - loss: 0.4795 - accuracy: 0.8611 - val_loss: 0.0738 - val_accuracy: 0.8750\n",
      "Epoch 2/10\n",
      "36/36 [==============================] - 5s 127ms/step - loss: 0.5086 - accuracy: 0.8519 - val_loss: 0.2984 - val_accuracy: 0.9583\n",
      "Epoch 3/10\n",
      "36/36 [==============================] - 5s 127ms/step - loss: 0.4545 - accuracy: 0.8519 - val_loss: 0.1785 - val_accuracy: 0.7917\n",
      "Epoch 4/10\n",
      "36/36 [==============================] - 5s 135ms/step - loss: 0.2794 - accuracy: 0.9074 - val_loss: 0.1009 - val_accuracy: 0.8958\n",
      "Epoch 5/10\n",
      "36/36 [==============================] - 5s 145ms/step - loss: 0.3126 - accuracy: 0.8611 - val_loss: 0.0133 - val_accuracy: 0.9167\n",
      "Epoch 6/10\n",
      "36/36 [==============================] - 5s 137ms/step - loss: 0.3501 - accuracy: 0.8148 - val_loss: 0.1888 - val_accuracy: 0.8542\n",
      "Epoch 7/10\n",
      "36/36 [==============================] - 5s 130ms/step - loss: 0.2007 - accuracy: 0.9167 - val_loss: 0.0016 - val_accuracy: 0.9167\n",
      "Epoch 8/10\n",
      "36/36 [==============================] - 5s 148ms/step - loss: 0.2630 - accuracy: 0.9259 - val_loss: 0.0054 - val_accuracy: 0.9362\n",
      "Epoch 9/10\n",
      "36/36 [==============================] - 5s 140ms/step - loss: 0.3110 - accuracy: 0.8889 - val_loss: 0.1636 - val_accuracy: 0.9583\n",
      "Epoch 10/10\n",
      "36/36 [==============================] - 5s 144ms/step - loss: 0.2216 - accuracy: 0.9074 - val_loss: 0.0030 - val_accuracy: 0.8542\n"
     ]
    }
   ],
   "source": [
    "r = classifier.fit_generator(training_set,\n",
    "                         steps_per_epoch = 36,\n",
    "                         epochs =10,\n",
    "                         validation_data = test_set,\n",
    "                         validation_steps = 16)"
   ]
  },
  {
   "cell_type": "code",
   "execution_count": 33,
   "metadata": {},
   "outputs": [],
   "source": [
    "import numpy as np\n",
    "from keras.preprocessing import image\n",
    "test_image = image.load_img('dataset/single_prediction/NORMAL (566).png', \n",
    "                            target_size = (64, 64))\n",
    "test_image = image.img_to_array(test_image)\n",
    "test_image = np.expand_dims(test_image, axis = 0)\n",
    "result = classifier.predict(test_image)\n",
    "training_set.class_indices\n",
    "if result[0][0] == 1:\n",
    "    prediction = 'CORONA'\n",
    "else:\n",
    "    prediction = 'NORMAL'"
   ]
  },
  {
   "cell_type": "code",
   "execution_count": 34,
   "metadata": {},
   "outputs": [
    {
     "data": {
      "text/plain": [
       "'CORONA'"
      ]
     },
     "execution_count": 34,
     "metadata": {},
     "output_type": "execute_result"
    }
   ],
   "source": [
    "prediction"
   ]
  }
 ],
 "metadata": {
  "kernelspec": {
   "display_name": "Python 3",
   "language": "python",
   "name": "python3"
  },
  "language_info": {
   "codemirror_mode": {
    "name": "ipython",
    "version": 3
   },
   "file_extension": ".py",
   "mimetype": "text/x-python",
   "name": "python",
   "nbconvert_exporter": "python",
   "pygments_lexer": "ipython3",
   "version": "3.7.4"
  }
 },
 "nbformat": 4,
 "nbformat_minor": 2
}
